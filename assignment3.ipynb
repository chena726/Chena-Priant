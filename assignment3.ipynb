{
 "cells": [
  {
   "cell_type": "code",
   "execution_count": 1,
   "metadata": {},
   "outputs": [
    {
     "name": "stdout",
     "output_type": "stream",
     "text": [
      "     Days  Distance  Cumulative_mi_EOD\n",
      "0    Day1      55.0               55.0\n",
      "1    Day2      65.0              120.0\n",
      "2    Day3      85.0              205.0\n",
      "3    Day4      90.0              295.0\n",
      "4    Day5     155.0              450.0\n",
      "5    Day6     165.0              615.0\n",
      "6    Day7      70.0              685.0\n",
      "7    Day8      90.0              775.0\n",
      "8    Day9     115.0              890.0\n",
      "9   Day10      75.0              965.0\n",
      "10  Day11      48.2             1013.2\n",
      "11  Day12     119.0             1132.2\n",
      "12  Day13      51.0             1183.2\n",
      "13  Day14      80.0             1263.2\n",
      "14  Day15      60.0             1323.2\n",
      "15  Day16     120.0             1443.2\n"
     ]
    }
   ],
   "source": [
    "import numpy as np\n",
    "import pandas as pd\n",
    "\n",
    "data={'Days':['Day1','Day2','Day3','Day4','Day5','Day6','Day7','Day8','Day9',\n",
    "'Day10','Day11','Day12','Day13','Day14','Day15','Day16']\n",
    "      ,'Distance':[55,65,85,90,155,165,70,90,115,75,48.2,119,51,80,60,120]}\n",
    "df=pd.DataFrame(data,columns=['Days','Distance'])\n",
    "df['Cumulative_mi_EOD']=df.Distance.cumsum()\n",
    "print(df)"
   ]
  },
  {
   "cell_type": "code",
   "execution_count": null,
   "metadata": {},
   "outputs": [],
   "source": []
  },
  {
   "cell_type": "code",
   "execution_count": null,
   "metadata": {},
   "outputs": [],
   "source": []
  },
  {
   "cell_type": "code",
   "execution_count": null,
   "metadata": {},
   "outputs": [],
   "source": []
  }
 ],
 "metadata": {
  "kernelspec": {
   "display_name": "Python 3",
   "language": "python",
   "name": "python3"
  },
  "language_info": {
   "codemirror_mode": {
    "name": "ipython",
    "version": 3
   },
   "file_extension": ".py",
   "mimetype": "text/x-python",
   "name": "python",
   "nbconvert_exporter": "python",
   "pygments_lexer": "ipython3",
   "version": "3.8.3"
  }
 },
 "nbformat": 4,
 "nbformat_minor": 4
}
