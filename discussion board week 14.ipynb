{
 "cells": [
  {
   "cell_type": "markdown",
   "metadata": {},
   "source": [
    "# Recommender Systems\n",
    "\n",
    "\n",
    "### Scenario Design Analysis for Amazon\n",
    "\n",
    "#### Taregted Users\n",
    "Website visitors that are planning to buy products of window shop\n",
    "\n",
    "#### Key Goals\n",
    "To sell products in the lowest cost than other online retailers. and to provide a hassle free shopping expericence."
   ]
  },
  {
   "cell_type": "markdown",
   "metadata": {},
   "source": [
    "#### Implementing goals\n",
    "Amazon can implement a recommender algorithm to help customers easily find desired products with raitings, comparison of competitor prices and list of similar items  \n",
    "\n",
    "#### Reverse Engineering\n",
    "Recommendations is a lists of similar items to purchase.  The current recommender that Amazon has is \"Trending\"- ratings and product viewed and purchased by other customers, \"Recommended deals\"- based on pervious purchase and search history , \"More top picks for you\" - items based on previous purchase and browsing history which help viewer to remeber if they are still interested in that product, \"Inspired by other shopping trends\", \"Today's hottest holiday deals\", and \"Recommendations for you\" - uses item-to-item collaborative filtering that aggregated a multitude of items that are similar to purchased items. \n",
    "\n",
    "\n"
   ]
  }
 ],
 "metadata": {
  "kernelspec": {
   "display_name": "Python 3",
   "language": "python",
   "name": "python3"
  },
  "language_info": {
   "codemirror_mode": {
    "name": "ipython",
    "version": 3
   },
   "file_extension": ".py",
   "mimetype": "text/x-python",
   "name": "python",
   "nbconvert_exporter": "python",
   "pygments_lexer": "ipython3",
   "version": "3.8.3"
  }
 },
 "nbformat": 4,
 "nbformat_minor": 4
}
