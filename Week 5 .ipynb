{
 "cells": [
  {
   "cell_type": "code",
   "execution_count": 1,
   "metadata": {},
   "outputs": [],
   "source": [
    "import pandas as pd"
   ]
  },
  {
   "cell_type": "code",
   "execution_count": 2,
   "metadata": {},
   "outputs": [
    {
     "name": "stdout",
     "output_type": "stream",
     "text": [
      "   faa                           name        lat        lon   alt  tz dst  \\\n",
      "0  04G              Lansdowne Airport  41.130472 -80.619583  1044  -5   A   \n",
      "1  06A  Moton Field Municipal Airport  32.460572 -85.680028   264  -6   A   \n",
      "2  06C            Schaumburg Regional  41.989341 -88.101243   801  -6   A   \n",
      "3  06N                Randall Airport  41.431912 -74.391561   523  -5   A   \n",
      "4  09J          Jekyll Island Airport  31.074472 -81.427778    11  -5   A   \n",
      "\n",
      "              tzone  \n",
      "0  America/New_York  \n",
      "1   America/Chicago  \n",
      "2   America/Chicago  \n",
      "3  America/New_York  \n",
      "4  America/New_York  \n"
     ]
    }
   ],
   "source": [
    "airports_url = \"https://raw.githubusercontent.com/hadley/nycflights13/master/data-raw/airports.csv\"\n",
    "airports=pd.read_csv(airports_url)\n",
    "print(airports.head())"
   ]
  },
  {
   "cell_type": "code",
   "execution_count": 3,
   "metadata": {},
   "outputs": [
    {
     "name": "stdout",
     "output_type": "stream",
     "text": [
      "  origin  year  month  day  hour   temp   dewp  humid  wind_dir  wind_speed  \\\n",
      "0    EWR  2013      1    1     1  39.02  26.06  59.37     270.0    10.35702   \n",
      "1    EWR  2013      1    1     2  39.02  26.96  61.63     250.0     8.05546   \n",
      "2    EWR  2013      1    1     3  39.02  28.04  64.43     240.0    11.50780   \n",
      "3    EWR  2013      1    1     4  39.92  28.04  62.21     250.0    12.65858   \n",
      "4    EWR  2013      1    1     5  39.02  28.04  64.43     260.0    12.65858   \n",
      "\n",
      "   wind_gust  precip  pressure  visib             time_hour  \n",
      "0        NaN     0.0    1012.0   10.0  2013-01-01T06:00:00Z  \n",
      "1        NaN     0.0    1012.3   10.0  2013-01-01T07:00:00Z  \n",
      "2        NaN     0.0    1012.5   10.0  2013-01-01T08:00:00Z  \n",
      "3        NaN     0.0    1012.2   10.0  2013-01-01T09:00:00Z  \n",
      "4        NaN     0.0    1011.9   10.0  2013-01-01T10:00:00Z  \n"
     ]
    }
   ],
   "source": [
    "weather_url=\"https://raw.githubusercontent.com/hadley/nycflights13/master/data-raw/weather.csv\"\n",
    "weather=pd.read_csv(weather_url)\n",
    "print(weather.head())"
   ]
  },
  {
   "cell_type": "code",
   "execution_count": 4,
   "metadata": {},
   "outputs": [
    {
     "name": "stdout",
     "output_type": "stream",
     "text": [
      "                                            name        lat              tzone\n",
      "230                   Wiley Post Will Rogers Mem  71.285446  America/Anchorage\n",
      "110                           Wainwright Airport  70.638056  America/Anchorage\n",
      "708                                Wainwright As  70.613378  America/Anchorage\n",
      "152   Atqasuk Edward Burnell Sr Memorial Airport  70.467300  America/Anchorage\n",
      "1363                        Ugnu-Kuparuk Airport  70.330833  America/Anchorage\n"
     ]
    }
   ],
   "source": [
    "#print(airports.sort_values('lat',ascending = False).head(10)[['name','lat','tzone']])\n",
    "n_airport=airports.sort_values('lat',ascending = False).head(6)[['name','lat','tzone']]\n",
    "print(n_airport[n_airport['tzone'].str.contains(\"America\")==True])"
   ]
  },
  {
   "cell_type": "code",
   "execution_count": 5,
   "metadata": {
    "scrolled": true
   },
   "outputs": [
    {
     "name": "stdout",
     "output_type": "stream",
     "text": [
      "                                     name         lon              tzone\n",
      "1290                         Eareckson As  174.113620  America/Anchorage\n",
      "444            Eastport Municipal Airport  -67.012694   America/New_York\n",
      "624                          Houlton Intl  -67.792056   America/New_York\n",
      "259                          Caribou Muni  -68.017917   America/New_York\n",
      "1101  Northern Maine Rgnl At Presque Isle  -68.044797   America/New_York\n"
     ]
    }
   ],
   "source": [
    "#print(airports.sort_values('lat',ascending = False).head(10)[['name','lat','tzone']])\n",
    "E_airport=airports.sort_values('lon',ascending = False).head(8)[['name','lon','tzone']]\n",
    "print(E_airport[E_airport['tzone'].str.contains(\"America\")==True])"
   ]
  },
  {
   "cell_type": "code",
   "execution_count": null,
   "metadata": {},
   "outputs": [],
   "source": []
  },
  {
   "cell_type": "code",
   "execution_count": 8,
   "metadata": {
    "scrolled": true
   },
   "outputs": [
    {
     "name": "stdout",
     "output_type": "stream",
     "text": [
      "       wind_speed origin             time_hour\n",
      "1009   1048.36058    EWR  2013-02-12T08:00:00Z\n",
      "18417    23.01560    LGA  2013-02-12T07:00:00Z\n",
      "1018     21.86482    EWR  2013-02-12T17:00:00Z\n",
      "18428    21.86482    LGA  2013-02-12T18:00:00Z\n",
      "9717     20.71404    JFK  2013-02-12T13:00:00Z\n"
     ]
    }
   ],
   "source": [
    "wind_date=weather[weather['time_hour'].str.contains(\"2013-02-12\")]\n",
    "Windiest=wind_date.sort_values('wind_speed', ascending = False).head(5)[['wind_speed','origin','time_hour']]\n",
    "print(Windiest)"
   ]
  },
  {
   "cell_type": "markdown",
   "metadata": {},
   "source": [
    "Question # 3. Answer: On Feb 12th 2013 EWR airport was the windiest"
   ]
  }
 ],
 "metadata": {
  "kernelspec": {
   "display_name": "Python 3",
   "language": "python",
   "name": "python3"
  },
  "language_info": {
   "codemirror_mode": {
    "name": "ipython",
    "version": 3
   },
   "file_extension": ".py",
   "mimetype": "text/x-python",
   "name": "python",
   "nbconvert_exporter": "python",
   "pygments_lexer": "ipython3",
   "version": "3.8.3"
  }
 },
 "nbformat": 4,
 "nbformat_minor": 4
}
