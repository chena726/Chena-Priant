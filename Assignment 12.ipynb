{
 "cells": [
  {
   "cell_type": "code",
   "execution_count": 1,
   "metadata": {},
   "outputs": [],
   "source": [
    "import pandas as pd\n",
    "import requests as rq"
   ]
  },
  {
   "cell_type": "code",
   "execution_count": 2,
   "metadata": {},
   "outputs": [],
   "source": [
    "#lists of books\n",
    "res = rq.get(\"https://api.nytimes.com/svc/books/v3/lists/current/hardcover-fiction.json?api-key=hHVKGd9adfxBItLTOACcJfDqpIIhKonG\")\n",
    "\n",
    "# Reviews\n",
    "rev_res = rq.get(\"https://api.nytimes.com/svc/books/v3/reviews.json?author=Stephen+King&api-key=hHVKGd9adfxBItLTOACcJfDqpIIhKonG\")"
   ]
  },
  {
   "cell_type": "code",
   "execution_count": 3,
   "metadata": {},
   "outputs": [],
   "source": [
    "j = res.json()\n",
    "data = pd.DataFrame(j)\n",
    "data.columns\n",
    "\n",
    "rev = rev_res.json()\n",
    "rev_data = pd.DataFrame(rev)"
   ]
  },
  {
   "cell_type": "code",
   "execution_count": 4,
   "metadata": {},
   "outputs": [
    {
     "data": {
      "text/html": [
       "<div>\n",
       "<style scoped>\n",
       "    .dataframe tbody tr th:only-of-type {\n",
       "        vertical-align: middle;\n",
       "    }\n",
       "\n",
       "    .dataframe tbody tr th {\n",
       "        vertical-align: top;\n",
       "    }\n",
       "\n",
       "    .dataframe thead th {\n",
       "        text-align: right;\n",
       "    }\n",
       "</style>\n",
       "<table border=\"1\" class=\"dataframe\">\n",
       "  <thead>\n",
       "    <tr style=\"text-align: right;\">\n",
       "      <th></th>\n",
       "      <th>results</th>\n",
       "    </tr>\n",
       "  </thead>\n",
       "  <tbody>\n",
       "    <tr>\n",
       "      <th>bestsellers_date</th>\n",
       "      <td>2020-11-07</td>\n",
       "    </tr>\n",
       "    <tr>\n",
       "      <th>books</th>\n",
       "      <td>[{'rank': 1, 'rank_last_week': 0, 'weeks_on_li...</td>\n",
       "    </tr>\n",
       "    <tr>\n",
       "      <th>corrections</th>\n",
       "      <td>[]</td>\n",
       "    </tr>\n",
       "    <tr>\n",
       "      <th>display_name</th>\n",
       "      <td>Hardcover Fiction</td>\n",
       "    </tr>\n",
       "    <tr>\n",
       "      <th>list_name</th>\n",
       "      <td>Hardcover Fiction</td>\n",
       "    </tr>\n",
       "    <tr>\n",
       "      <th>list_name_encoded</th>\n",
       "      <td>hardcover-fiction</td>\n",
       "    </tr>\n",
       "    <tr>\n",
       "      <th>next_published_date</th>\n",
       "      <td></td>\n",
       "    </tr>\n",
       "    <tr>\n",
       "      <th>normal_list_ends_at</th>\n",
       "      <td>15</td>\n",
       "    </tr>\n",
       "    <tr>\n",
       "      <th>previous_published_date</th>\n",
       "      <td>2020-11-15</td>\n",
       "    </tr>\n",
       "    <tr>\n",
       "      <th>published_date</th>\n",
       "      <td>2020-11-22</td>\n",
       "    </tr>\n",
       "    <tr>\n",
       "      <th>published_date_description</th>\n",
       "      <td>latest</td>\n",
       "    </tr>\n",
       "    <tr>\n",
       "      <th>updated</th>\n",
       "      <td>WEEKLY</td>\n",
       "    </tr>\n",
       "  </tbody>\n",
       "</table>\n",
       "</div>"
      ],
      "text/plain": [
       "                                                                      results\n",
       "bestsellers_date                                                   2020-11-07\n",
       "books                       [{'rank': 1, 'rank_last_week': 0, 'weeks_on_li...\n",
       "corrections                                                                []\n",
       "display_name                                                Hardcover Fiction\n",
       "list_name                                                   Hardcover Fiction\n",
       "list_name_encoded                                           hardcover-fiction\n",
       "next_published_date                                                          \n",
       "normal_list_ends_at                                                        15\n",
       "previous_published_date                                            2020-11-15\n",
       "published_date                                                     2020-11-22\n",
       "published_date_description                                             latest\n",
       "updated                                                                WEEKLY"
      ]
     },
     "execution_count": 4,
     "metadata": {},
     "output_type": "execute_result"
    }
   ],
   "source": [
    "results = pd.DataFrame(data['results'])\n",
    "results"
   ]
  },
  {
   "cell_type": "code",
   "execution_count": 5,
   "metadata": {},
   "outputs": [
    {
     "data": {
      "text/plain": [
       "rank                    15\n",
       "rank_last_week          15\n",
       "weeks_on_list           15\n",
       "asterisk                15\n",
       "dagger                  15\n",
       "primary_isbn10          15\n",
       "primary_isbn13          15\n",
       "publisher               15\n",
       "description             15\n",
       "price                   15\n",
       "title                   15\n",
       "author                  15\n",
       "contributor             15\n",
       "contributor_note        15\n",
       "book_image              15\n",
       "book_image_width        15\n",
       "book_image_height       15\n",
       "amazon_product_url      15\n",
       "age_group               15\n",
       "book_review_link        15\n",
       "first_chapter_link      15\n",
       "sunday_review_link      15\n",
       "article_chapter_link    15\n",
       "isbns                   15\n",
       "buy_links               15\n",
       "book_uri                15\n",
       "dtype: int64"
      ]
     },
     "execution_count": 5,
     "metadata": {},
     "output_type": "execute_result"
    }
   ],
   "source": [
    "books = pd.DataFrame(data['results']['books'])\n",
    "books.count()"
   ]
  },
  {
   "cell_type": "code",
   "execution_count": 6,
   "metadata": {},
   "outputs": [
    {
     "data": {
      "text/html": [
       "<div>\n",
       "<style scoped>\n",
       "    .dataframe tbody tr th:only-of-type {\n",
       "        vertical-align: middle;\n",
       "    }\n",
       "\n",
       "    .dataframe tbody tr th {\n",
       "        vertical-align: top;\n",
       "    }\n",
       "\n",
       "    .dataframe thead th {\n",
       "        text-align: right;\n",
       "    }\n",
       "</style>\n",
       "<table border=\"1\" class=\"dataframe\">\n",
       "  <thead>\n",
       "    <tr style=\"text-align: right;\">\n",
       "      <th></th>\n",
       "    </tr>\n",
       "  </thead>\n",
       "  <tbody>\n",
       "  </tbody>\n",
       "</table>\n",
       "</div>"
      ],
      "text/plain": [
       "Empty DataFrame\n",
       "Columns: []\n",
       "Index: []"
      ]
     },
     "execution_count": 6,
     "metadata": {},
     "output_type": "execute_result"
    }
   ],
   "source": [
    "pd.DataFrame(data['results']['corrections'])"
   ]
  },
  {
   "cell_type": "code",
   "execution_count": 7,
   "metadata": {},
   "outputs": [
    {
     "data": {
      "text/plain": [
       "Index(['status', 'copyright', 'num_results', 'results'], dtype='object')"
      ]
     },
     "execution_count": 7,
     "metadata": {},
     "output_type": "execute_result"
    }
   ],
   "source": [
    "rev_data.columns"
   ]
  },
  {
   "cell_type": "code",
   "execution_count": 8,
   "metadata": {},
   "outputs": [
    {
     "data": {
      "text/html": [
       "<div>\n",
       "<style scoped>\n",
       "    .dataframe tbody tr th:only-of-type {\n",
       "        vertical-align: middle;\n",
       "    }\n",
       "\n",
       "    .dataframe tbody tr th {\n",
       "        vertical-align: top;\n",
       "    }\n",
       "\n",
       "    .dataframe thead th {\n",
       "        text-align: right;\n",
       "    }\n",
       "</style>\n",
       "<table border=\"1\" class=\"dataframe\">\n",
       "  <thead>\n",
       "    <tr style=\"text-align: right;\">\n",
       "      <th></th>\n",
       "      <th>results</th>\n",
       "    </tr>\n",
       "  </thead>\n",
       "  <tbody>\n",
       "    <tr>\n",
       "      <th>0</th>\n",
       "      <td>{'url': 'http://www.nytimes.com/2011/11/13/boo...</td>\n",
       "    </tr>\n",
       "    <tr>\n",
       "      <th>1</th>\n",
       "      <td>{'url': 'http://www.nytimes.com/2011/10/31/boo...</td>\n",
       "    </tr>\n",
       "    <tr>\n",
       "      <th>2</th>\n",
       "      <td>{'url': 'http://www.nytimes.com/2004/01/04/boo...</td>\n",
       "    </tr>\n",
       "    <tr>\n",
       "      <th>3</th>\n",
       "      <td>{'url': 'http://www.nytimes.com/1993/10/24/boo...</td>\n",
       "    </tr>\n",
       "    <tr>\n",
       "      <th>4</th>\n",
       "      <td>{'url': 'http://www.nytimes.com/2001/11/04/boo...</td>\n",
       "    </tr>\n",
       "  </tbody>\n",
       "</table>\n",
       "</div>"
      ],
      "text/plain": [
       "                                             results\n",
       "0  {'url': 'http://www.nytimes.com/2011/11/13/boo...\n",
       "1  {'url': 'http://www.nytimes.com/2011/10/31/boo...\n",
       "2  {'url': 'http://www.nytimes.com/2004/01/04/boo...\n",
       "3  {'url': 'http://www.nytimes.com/1993/10/24/boo...\n",
       "4  {'url': 'http://www.nytimes.com/2001/11/04/boo..."
      ]
     },
     "execution_count": 8,
     "metadata": {},
     "output_type": "execute_result"
    }
   ],
   "source": [
    "pd.DataFrame(rev_data['results']).head()"
   ]
  },
  {
   "cell_type": "code",
   "execution_count": null,
   "metadata": {},
   "outputs": [],
   "source": []
  }
 ],
 "metadata": {
  "kernelspec": {
   "display_name": "Python 3",
   "language": "python",
   "name": "python3"
  },
  "language_info": {
   "codemirror_mode": {
    "name": "ipython",
    "version": 3
   },
   "file_extension": ".py",
   "mimetype": "text/x-python",
   "name": "python",
   "nbconvert_exporter": "python",
   "pygments_lexer": "ipython3",
   "version": "3.8.3"
  }
 },
 "nbformat": 4,
 "nbformat_minor": 4
}
