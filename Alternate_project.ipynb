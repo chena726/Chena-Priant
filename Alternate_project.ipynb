{
 "cells": [
  {
   "cell_type": "code",
   "execution_count": null,
   "metadata": {},
   "outputs": [],
   "source": [
    "import pandas as pd"
   ]
  },
  {
   "cell_type": "code",
   "execution_count": null,
   "metadata": {},
   "outputs": [],
   "source": [
    "chess = pd.DataFrame(pd.read_csv('C:\\Users\\chena\\OneDrive\\School Docs\\School Work\\SPS\\Fall 2020\\IS 362\\week 10\\CHESS_TOURNAMENT.csv'))"
   ]
  },
  {
   "cell_type": "code",
   "execution_count": null,
   "metadata": {},
   "outputs": [],
   "source": [
    "chess.head()"
   ]
  },
  {
   "cell_type": "code",
   "execution_count": null,
   "metadata": {},
   "outputs": [],
   "source": [
    "def avg_tournament_rating():\n",
    "    sum = 0 \n",
    "    for chs in chess.loc[0][7:]:\n",
    "        sum+= chess['Rtg'].loc[int(chs[1])-1]  # calculate avg number \n",
    "    return int(sum/4)  # 4 ->  Total Round"
   ]
  },
  {
   "cell_type": "code",
   "execution_count": null,
   "metadata": {},
   "outputs": [],
   "source": [
    "DT = pd.DataFrame(columns=['Player Name', 'Players State', 'Total Number of Points', 'Player Pre-Rating','Avg Prev Tournament Rating'])"
   ]
  },
  {
   "cell_type": "code",
   "execution_count": null,
   "metadata": {},
   "outputs": [],
   "source": [
    "#first player data \n",
    "DT.loc[1,'Player Name'] = chess['Player-Name'][0]\n",
    "DT.loc[1,'Players State'] = chess['Num'][0]\n",
    "DT.loc[1,'Total Number of Points'] = chess['Total-Pts'][0]\n",
    "DT.loc[1,'Player Pre-Rating'] = chess['Rtg'][0]\n",
    "DT.loc[1,'Avg Prev Tournament Rating'] = avg_tournament_rating()"
   ]
  },
  {
   "cell_type": "code",
   "execution_count": null,
   "metadata": {},
   "outputs": [],
   "source": [
    "#generate csv file\n",
    "DT.to_csv(r'C:\\Users\\chena\\OneDrive\\School Docs\\School Work\\SPS\\Fall 2020\\IS 362\\week 10\\New folder\\generate_chess_player.csv', index=None, header=True)"
   ]
  },
  {
   "cell_type": "code",
   "execution_count": null,
   "metadata": {},
   "outputs": [],
   "source": []
  }
 ],
 "metadata": {
  "kernelspec": {
   "display_name": "Python 3",
   "language": "python",
   "name": "python3"
  },
  "language_info": {
   "codemirror_mode": {
    "name": "ipython",
    "version": 3
   },
   "file_extension": ".py",
   "mimetype": "text/x-python",
   "name": "python",
   "nbconvert_exporter": "python",
   "pygments_lexer": "ipython3",
   "version": "3.8.3"
  }
 },
 "nbformat": 4,
 "nbformat_minor": 4
}
