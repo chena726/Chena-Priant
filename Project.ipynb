{
 "cells": [
  {
   "cell_type": "markdown",
   "metadata": {},
   "source": [
    "# Unemployment Rate for Hispanic Population"
   ]
  },
  {
   "cell_type": "markdown",
   "metadata": {},
   "source": [
    "### Import numpy, pandas, dataframe "
   ]
  },
  {
   "cell_type": "code",
   "execution_count": 30,
   "metadata": {},
   "outputs": [],
   "source": [
    "import pandas as pd\n",
    "from pandas import DataFrame\n",
    "import requests\n",
    "import csv\n",
    "from urllib.request import urlopen\n",
    "import matplotlib.pyplot as plt\n",
    "%matplotlib inline\n",
    "from sklearn import preprocessing\n"
   ]
  },
  {
   "cell_type": "markdown",
   "metadata": {},
   "source": [
    "### This API data extract from the Federal Reserve System contains the percentage of Hispanic or Latino unemployment in the US from 1973 to 2020."
   ]
  },
  {
   "cell_type": "code",
   "execution_count": 8,
   "metadata": {},
   "outputs": [
    {
     "data": {
      "text/html": [
       "<div>\n",
       "<style scoped>\n",
       "    .dataframe tbody tr th:only-of-type {\n",
       "        vertical-align: middle;\n",
       "    }\n",
       "\n",
       "    .dataframe tbody tr th {\n",
       "        vertical-align: top;\n",
       "    }\n",
       "\n",
       "    .dataframe thead th {\n",
       "        text-align: right;\n",
       "    }\n",
       "</style>\n",
       "<table border=\"1\" class=\"dataframe\">\n",
       "  <thead>\n",
       "    <tr style=\"text-align: right;\">\n",
       "      <th></th>\n",
       "      <th>realtime_start</th>\n",
       "      <th>realtime_end</th>\n",
       "      <th>date</th>\n",
       "      <th>value</th>\n",
       "    </tr>\n",
       "  </thead>\n",
       "  <tbody>\n",
       "    <tr>\n",
       "      <th>0</th>\n",
       "      <td>2020-12-20</td>\n",
       "      <td>2020-12-20</td>\n",
       "      <td>1973-03-01</td>\n",
       "      <td>7.3</td>\n",
       "    </tr>\n",
       "    <tr>\n",
       "      <th>1</th>\n",
       "      <td>2020-12-20</td>\n",
       "      <td>2020-12-20</td>\n",
       "      <td>1973-04-01</td>\n",
       "      <td>7.9</td>\n",
       "    </tr>\n",
       "    <tr>\n",
       "      <th>2</th>\n",
       "      <td>2020-12-20</td>\n",
       "      <td>2020-12-20</td>\n",
       "      <td>1973-05-01</td>\n",
       "      <td>8.1</td>\n",
       "    </tr>\n",
       "    <tr>\n",
       "      <th>3</th>\n",
       "      <td>2020-12-20</td>\n",
       "      <td>2020-12-20</td>\n",
       "      <td>1973-06-01</td>\n",
       "      <td>7.9</td>\n",
       "    </tr>\n",
       "    <tr>\n",
       "      <th>4</th>\n",
       "      <td>2020-12-20</td>\n",
       "      <td>2020-12-20</td>\n",
       "      <td>1973-07-01</td>\n",
       "      <td>7.2</td>\n",
       "    </tr>\n",
       "    <tr>\n",
       "      <th>...</th>\n",
       "      <td>...</td>\n",
       "      <td>...</td>\n",
       "      <td>...</td>\n",
       "      <td>...</td>\n",
       "    </tr>\n",
       "    <tr>\n",
       "      <th>568</th>\n",
       "      <td>2020-12-20</td>\n",
       "      <td>2020-12-20</td>\n",
       "      <td>2020-07-01</td>\n",
       "      <td>12.9</td>\n",
       "    </tr>\n",
       "    <tr>\n",
       "      <th>569</th>\n",
       "      <td>2020-12-20</td>\n",
       "      <td>2020-12-20</td>\n",
       "      <td>2020-08-01</td>\n",
       "      <td>10.5</td>\n",
       "    </tr>\n",
       "    <tr>\n",
       "      <th>570</th>\n",
       "      <td>2020-12-20</td>\n",
       "      <td>2020-12-20</td>\n",
       "      <td>2020-09-01</td>\n",
       "      <td>10.3</td>\n",
       "    </tr>\n",
       "    <tr>\n",
       "      <th>571</th>\n",
       "      <td>2020-12-20</td>\n",
       "      <td>2020-12-20</td>\n",
       "      <td>2020-10-01</td>\n",
       "      <td>8.8</td>\n",
       "    </tr>\n",
       "    <tr>\n",
       "      <th>572</th>\n",
       "      <td>2020-12-20</td>\n",
       "      <td>2020-12-20</td>\n",
       "      <td>2020-11-01</td>\n",
       "      <td>8.4</td>\n",
       "    </tr>\n",
       "  </tbody>\n",
       "</table>\n",
       "<p>573 rows × 4 columns</p>\n",
       "</div>"
      ],
      "text/plain": [
       "    realtime_start realtime_end        date value\n",
       "0       2020-12-20   2020-12-20  1973-03-01   7.3\n",
       "1       2020-12-20   2020-12-20  1973-04-01   7.9\n",
       "2       2020-12-20   2020-12-20  1973-05-01   8.1\n",
       "3       2020-12-20   2020-12-20  1973-06-01   7.9\n",
       "4       2020-12-20   2020-12-20  1973-07-01   7.2\n",
       "..             ...          ...         ...   ...\n",
       "568     2020-12-20   2020-12-20  2020-07-01  12.9\n",
       "569     2020-12-20   2020-12-20  2020-08-01  10.5\n",
       "570     2020-12-20   2020-12-20  2020-09-01  10.3\n",
       "571     2020-12-20   2020-12-20  2020-10-01   8.8\n",
       "572     2020-12-20   2020-12-20  2020-11-01   8.4\n",
       "\n",
       "[573 rows x 4 columns]"
      ]
     },
     "execution_count": 8,
     "metadata": {},
     "output_type": "execute_result"
    }
   ],
   "source": [
    "r = requests.get('https://api.stlouisfed.org/fred/series/observations?series_id=LNS14000009&api_key=cc32522c021053498fbe94f21fd3eb17&file_type=json')\n",
    "x = r.json()\n",
    "df_HispUnempl = pd.DataFrame(x['observations'])\n",
    "df_HispUnempl"
   ]
  },
  {
   "cell_type": "markdown",
   "metadata": {},
   "source": [
    "### Check for missing values"
   ]
  },
  {
   "cell_type": "code",
   "execution_count": 9,
   "metadata": {},
   "outputs": [
    {
     "data": {
      "text/plain": [
       "realtime_start    0\n",
       "realtime_end      0\n",
       "date              0\n",
       "value             0\n",
       "dtype: int64"
      ]
     },
     "execution_count": 9,
     "metadata": {},
     "output_type": "execute_result"
    }
   ],
   "source": [
    "df_HispUnempl.isnull().sum()"
   ]
  },
  {
   "cell_type": "code",
   "execution_count": 10,
   "metadata": {},
   "outputs": [
    {
     "data": {
      "text/plain": [
       "False"
      ]
     },
     "execution_count": 10,
     "metadata": {},
     "output_type": "execute_result"
    }
   ],
   "source": [
    "df_HispUnempl.isnull().values.any()"
   ]
  },
  {
   "cell_type": "markdown",
   "metadata": {},
   "source": [
    "### Convert column date to time value "
   ]
  },
  {
   "cell_type": "code",
   "execution_count": 11,
   "metadata": {},
   "outputs": [],
   "source": [
    "df_HispUnempl['date'] = df_HispUnempl['date'].astype('datetime64[ns]')"
   ]
  },
  {
   "cell_type": "code",
   "execution_count": 12,
   "metadata": {},
   "outputs": [
    {
     "name": "stdout",
     "output_type": "stream",
     "text": [
      "<class 'pandas.core.frame.DataFrame'>\n",
      "RangeIndex: 573 entries, 0 to 572\n",
      "Data columns (total 4 columns):\n",
      " #   Column          Non-Null Count  Dtype         \n",
      "---  ------          --------------  -----         \n",
      " 0   realtime_start  573 non-null    object        \n",
      " 1   realtime_end    573 non-null    object        \n",
      " 2   date            573 non-null    datetime64[ns]\n",
      " 3   value           573 non-null    object        \n",
      "dtypes: datetime64[ns](1), object(3)\n",
      "memory usage: 18.0+ KB\n"
     ]
    }
   ],
   "source": [
    "df_HispUnempl.info()"
   ]
  },
  {
   "cell_type": "markdown",
   "metadata": {},
   "source": [
    "### Drop unnecessary columns"
   ]
  },
  {
   "cell_type": "code",
   "execution_count": 13,
   "metadata": {},
   "outputs": [
    {
     "data": {
      "text/html": [
       "<div>\n",
       "<style scoped>\n",
       "    .dataframe tbody tr th:only-of-type {\n",
       "        vertical-align: middle;\n",
       "    }\n",
       "\n",
       "    .dataframe tbody tr th {\n",
       "        vertical-align: top;\n",
       "    }\n",
       "\n",
       "    .dataframe thead th {\n",
       "        text-align: right;\n",
       "    }\n",
       "</style>\n",
       "<table border=\"1\" class=\"dataframe\">\n",
       "  <thead>\n",
       "    <tr style=\"text-align: right;\">\n",
       "      <th></th>\n",
       "      <th>date</th>\n",
       "      <th>value</th>\n",
       "    </tr>\n",
       "  </thead>\n",
       "  <tbody>\n",
       "    <tr>\n",
       "      <th>0</th>\n",
       "      <td>1973-03-01</td>\n",
       "      <td>7.3</td>\n",
       "    </tr>\n",
       "    <tr>\n",
       "      <th>1</th>\n",
       "      <td>1973-04-01</td>\n",
       "      <td>7.9</td>\n",
       "    </tr>\n",
       "    <tr>\n",
       "      <th>2</th>\n",
       "      <td>1973-05-01</td>\n",
       "      <td>8.1</td>\n",
       "    </tr>\n",
       "    <tr>\n",
       "      <th>3</th>\n",
       "      <td>1973-06-01</td>\n",
       "      <td>7.9</td>\n",
       "    </tr>\n",
       "    <tr>\n",
       "      <th>4</th>\n",
       "      <td>1973-07-01</td>\n",
       "      <td>7.2</td>\n",
       "    </tr>\n",
       "    <tr>\n",
       "      <th>...</th>\n",
       "      <td>...</td>\n",
       "      <td>...</td>\n",
       "    </tr>\n",
       "    <tr>\n",
       "      <th>568</th>\n",
       "      <td>2020-07-01</td>\n",
       "      <td>12.9</td>\n",
       "    </tr>\n",
       "    <tr>\n",
       "      <th>569</th>\n",
       "      <td>2020-08-01</td>\n",
       "      <td>10.5</td>\n",
       "    </tr>\n",
       "    <tr>\n",
       "      <th>570</th>\n",
       "      <td>2020-09-01</td>\n",
       "      <td>10.3</td>\n",
       "    </tr>\n",
       "    <tr>\n",
       "      <th>571</th>\n",
       "      <td>2020-10-01</td>\n",
       "      <td>8.8</td>\n",
       "    </tr>\n",
       "    <tr>\n",
       "      <th>572</th>\n",
       "      <td>2020-11-01</td>\n",
       "      <td>8.4</td>\n",
       "    </tr>\n",
       "  </tbody>\n",
       "</table>\n",
       "<p>573 rows × 2 columns</p>\n",
       "</div>"
      ],
      "text/plain": [
       "          date value\n",
       "0   1973-03-01   7.3\n",
       "1   1973-04-01   7.9\n",
       "2   1973-05-01   8.1\n",
       "3   1973-06-01   7.9\n",
       "4   1973-07-01   7.2\n",
       "..         ...   ...\n",
       "568 2020-07-01  12.9\n",
       "569 2020-08-01  10.5\n",
       "570 2020-09-01  10.3\n",
       "571 2020-10-01   8.8\n",
       "572 2020-11-01   8.4\n",
       "\n",
       "[573 rows x 2 columns]"
      ]
     },
     "execution_count": 13,
     "metadata": {},
     "output_type": "execute_result"
    }
   ],
   "source": [
    "df_HispUnempl.drop(['realtime_end','realtime_start'],axis=1)"
   ]
  },
  {
   "cell_type": "markdown",
   "metadata": {},
   "source": [
    "### After obtaining the Hispanic or Latino population in the US, access the www2.census.gov website to get data about Hispanic population in the US"
   ]
  },
  {
   "cell_type": "code",
   "execution_count": 14,
   "metadata": {},
   "outputs": [
    {
     "data": {
      "text/html": [
       "<div>\n",
       "<style scoped>\n",
       "    .dataframe tbody tr th:only-of-type {\n",
       "        vertical-align: middle;\n",
       "    }\n",
       "\n",
       "    .dataframe tbody tr th {\n",
       "        vertical-align: top;\n",
       "    }\n",
       "\n",
       "    .dataframe thead th {\n",
       "        text-align: right;\n",
       "    }\n",
       "</style>\n",
       "<table border=\"1\" class=\"dataframe\">\n",
       "  <thead>\n",
       "    <tr style=\"text-align: right;\">\n",
       "      <th></th>\n",
       "      <th>UNIVERSE</th>\n",
       "      <th>MONTH</th>\n",
       "      <th>YEAR</th>\n",
       "      <th>AGE</th>\n",
       "      <th>TOT_POP</th>\n",
       "      <th>TOT_MALE</th>\n",
       "      <th>TOT_FEMALE</th>\n",
       "      <th>WA_MALE</th>\n",
       "      <th>WA_FEMALE</th>\n",
       "      <th>BA_MALE</th>\n",
       "      <th>...</th>\n",
       "      <th>HWAC_MALE</th>\n",
       "      <th>HWAC_FEMALE</th>\n",
       "      <th>HBAC_MALE</th>\n",
       "      <th>HBAC_FEMALE</th>\n",
       "      <th>HIAC_MALE</th>\n",
       "      <th>HIAC_FEMALE</th>\n",
       "      <th>HAAC_MALE</th>\n",
       "      <th>HAAC_FEMALE</th>\n",
       "      <th>HNAC_MALE</th>\n",
       "      <th>HNAC_FEMALE</th>\n",
       "    </tr>\n",
       "  </thead>\n",
       "  <tbody>\n",
       "    <tr>\n",
       "      <th>102</th>\n",
       "      <td>C</td>\n",
       "      <td>4.2</td>\n",
       "      <td>2010</td>\n",
       "      <td>999</td>\n",
       "      <td>307528001</td>\n",
       "      <td>150745782</td>\n",
       "      <td>156782219</td>\n",
       "      <td>118894102</td>\n",
       "      <td>122127046</td>\n",
       "      <td>19053646</td>\n",
       "      <td>...</td>\n",
       "      <td>23198562</td>\n",
       "      <td>22531437</td>\n",
       "      <td>1423060</td>\n",
       "      <td>1497524</td>\n",
       "      <td>1080440</td>\n",
       "      <td>1010705</td>\n",
       "      <td>437149</td>\n",
       "      <td>441837</td>\n",
       "      <td>158075</td>\n",
       "      <td>152338</td>\n",
       "    </tr>\n",
       "    <tr>\n",
       "      <th>204</th>\n",
       "      <td>C</td>\n",
       "      <td>5.0</td>\n",
       "      <td>2010</td>\n",
       "      <td>999</td>\n",
       "      <td>307708263</td>\n",
       "      <td>150837173</td>\n",
       "      <td>156871090</td>\n",
       "      <td>118941089</td>\n",
       "      <td>122171164</td>\n",
       "      <td>19070825</td>\n",
       "      <td>...</td>\n",
       "      <td>23234658</td>\n",
       "      <td>22572909</td>\n",
       "      <td>1426541</td>\n",
       "      <td>1500887</td>\n",
       "      <td>1082258</td>\n",
       "      <td>1012495</td>\n",
       "      <td>438103</td>\n",
       "      <td>442784</td>\n",
       "      <td>158366</td>\n",
       "      <td>152610</td>\n",
       "    </tr>\n",
       "    <tr>\n",
       "      <th>306</th>\n",
       "      <td>C</td>\n",
       "      <td>6.0</td>\n",
       "      <td>2010</td>\n",
       "      <td>999</td>\n",
       "      <td>307890277</td>\n",
       "      <td>150929529</td>\n",
       "      <td>156960748</td>\n",
       "      <td>118988795</td>\n",
       "      <td>122215140</td>\n",
       "      <td>19087998</td>\n",
       "      <td>...</td>\n",
       "      <td>23271950</td>\n",
       "      <td>22615004</td>\n",
       "      <td>1429923</td>\n",
       "      <td>1504238</td>\n",
       "      <td>1084233</td>\n",
       "      <td>1014474</td>\n",
       "      <td>439057</td>\n",
       "      <td>443741</td>\n",
       "      <td>158680</td>\n",
       "      <td>152893</td>\n",
       "    </tr>\n",
       "    <tr>\n",
       "      <th>408</th>\n",
       "      <td>C</td>\n",
       "      <td>7.0</td>\n",
       "      <td>2010</td>\n",
       "      <td>999</td>\n",
       "      <td>308086427</td>\n",
       "      <td>151027905</td>\n",
       "      <td>157058522</td>\n",
       "      <td>119041643</td>\n",
       "      <td>122266055</td>\n",
       "      <td>19105504</td>\n",
       "      <td>...</td>\n",
       "      <td>23310135</td>\n",
       "      <td>22658056</td>\n",
       "      <td>1433470</td>\n",
       "      <td>1507611</td>\n",
       "      <td>1086247</td>\n",
       "      <td>1016487</td>\n",
       "      <td>440103</td>\n",
       "      <td>444689</td>\n",
       "      <td>159040</td>\n",
       "      <td>153196</td>\n",
       "    </tr>\n",
       "    <tr>\n",
       "      <th>510</th>\n",
       "      <td>C</td>\n",
       "      <td>8.0</td>\n",
       "      <td>2010</td>\n",
       "      <td>999</td>\n",
       "      <td>308308214</td>\n",
       "      <td>151142614</td>\n",
       "      <td>157165600</td>\n",
       "      <td>119104504</td>\n",
       "      <td>122321362</td>\n",
       "      <td>19125988</td>\n",
       "      <td>...</td>\n",
       "      <td>23349359</td>\n",
       "      <td>22704125</td>\n",
       "      <td>1436346</td>\n",
       "      <td>1511039</td>\n",
       "      <td>1087271</td>\n",
       "      <td>1018121</td>\n",
       "      <td>440751</td>\n",
       "      <td>445599</td>\n",
       "      <td>158936</td>\n",
       "      <td>153344</td>\n",
       "    </tr>\n",
       "    <tr>\n",
       "      <th>...</th>\n",
       "      <td>...</td>\n",
       "      <td>...</td>\n",
       "      <td>...</td>\n",
       "      <td>...</td>\n",
       "      <td>...</td>\n",
       "      <td>...</td>\n",
       "      <td>...</td>\n",
       "      <td>...</td>\n",
       "      <td>...</td>\n",
       "      <td>...</td>\n",
       "      <td>...</td>\n",
       "      <td>...</td>\n",
       "      <td>...</td>\n",
       "      <td>...</td>\n",
       "      <td>...</td>\n",
       "      <td>...</td>\n",
       "      <td>...</td>\n",
       "      <td>...</td>\n",
       "      <td>...</td>\n",
       "      <td>...</td>\n",
       "      <td>...</td>\n",
       "    </tr>\n",
       "    <tr>\n",
       "      <th>10302</th>\n",
       "      <td>C</td>\n",
       "      <td>8.0</td>\n",
       "      <td>2018</td>\n",
       "      <td>999</td>\n",
       "      <td>325663437</td>\n",
       "      <td>159979624</td>\n",
       "      <td>165683813</td>\n",
       "      <td>123195899</td>\n",
       "      <td>125966701</td>\n",
       "      <td>20812527</td>\n",
       "      <td>...</td>\n",
       "      <td>27225108</td>\n",
       "      <td>26758096</td>\n",
       "      <td>1825114</td>\n",
       "      <td>1889774</td>\n",
       "      <td>1278396</td>\n",
       "      <td>1211201</td>\n",
       "      <td>543201</td>\n",
       "      <td>546544</td>\n",
       "      <td>191581</td>\n",
       "      <td>184609</td>\n",
       "    </tr>\n",
       "    <tr>\n",
       "      <th>10404</th>\n",
       "      <td>C</td>\n",
       "      <td>9.0</td>\n",
       "      <td>2018</td>\n",
       "      <td>999</td>\n",
       "      <td>325824731</td>\n",
       "      <td>160060360</td>\n",
       "      <td>165764371</td>\n",
       "      <td>123232288</td>\n",
       "      <td>126001599</td>\n",
       "      <td>20828811</td>\n",
       "      <td>...</td>\n",
       "      <td>27261924</td>\n",
       "      <td>26795566</td>\n",
       "      <td>1828774</td>\n",
       "      <td>1893415</td>\n",
       "      <td>1280299</td>\n",
       "      <td>1213107</td>\n",
       "      <td>544249</td>\n",
       "      <td>547614</td>\n",
       "      <td>191898</td>\n",
       "      <td>184934</td>\n",
       "    </tr>\n",
       "    <tr>\n",
       "      <th>10506</th>\n",
       "      <td>C</td>\n",
       "      <td>10.0</td>\n",
       "      <td>2018</td>\n",
       "      <td>999</td>\n",
       "      <td>325983608</td>\n",
       "      <td>160139888</td>\n",
       "      <td>165843720</td>\n",
       "      <td>123267878</td>\n",
       "      <td>126035752</td>\n",
       "      <td>20844883</td>\n",
       "      <td>...</td>\n",
       "      <td>27298328</td>\n",
       "      <td>26832643</td>\n",
       "      <td>1832421</td>\n",
       "      <td>1896954</td>\n",
       "      <td>1282197</td>\n",
       "      <td>1215021</td>\n",
       "      <td>545339</td>\n",
       "      <td>548645</td>\n",
       "      <td>192240</td>\n",
       "      <td>185258</td>\n",
       "    </tr>\n",
       "    <tr>\n",
       "      <th>10608</th>\n",
       "      <td>C</td>\n",
       "      <td>11.0</td>\n",
       "      <td>2018</td>\n",
       "      <td>999</td>\n",
       "      <td>326123404</td>\n",
       "      <td>160209549</td>\n",
       "      <td>165913855</td>\n",
       "      <td>123295777</td>\n",
       "      <td>126062718</td>\n",
       "      <td>20859623</td>\n",
       "      <td>...</td>\n",
       "      <td>27333317</td>\n",
       "      <td>26868410</td>\n",
       "      <td>1835979</td>\n",
       "      <td>1900454</td>\n",
       "      <td>1284012</td>\n",
       "      <td>1216851</td>\n",
       "      <td>546340</td>\n",
       "      <td>549642</td>\n",
       "      <td>192572</td>\n",
       "      <td>185570</td>\n",
       "    </tr>\n",
       "    <tr>\n",
       "      <th>10710</th>\n",
       "      <td>C</td>\n",
       "      <td>12.0</td>\n",
       "      <td>2018</td>\n",
       "      <td>999</td>\n",
       "      <td>326244199</td>\n",
       "      <td>160269508</td>\n",
       "      <td>165974691</td>\n",
       "      <td>123316693</td>\n",
       "      <td>126083004</td>\n",
       "      <td>20872876</td>\n",
       "      <td>...</td>\n",
       "      <td>27366042</td>\n",
       "      <td>26902034</td>\n",
       "      <td>1839275</td>\n",
       "      <td>1903769</td>\n",
       "      <td>1285708</td>\n",
       "      <td>1218605</td>\n",
       "      <td>547312</td>\n",
       "      <td>550582</td>\n",
       "      <td>192874</td>\n",
       "      <td>185861</td>\n",
       "    </tr>\n",
       "  </tbody>\n",
       "</table>\n",
       "<p>105 rows × 77 columns</p>\n",
       "</div>"
      ],
      "text/plain": [
       "      UNIVERSE  MONTH  YEAR  AGE    TOT_POP   TOT_MALE TOT_FEMALE    WA_MALE  \\\n",
       "102          C    4.2  2010  999  307528001  150745782  156782219  118894102   \n",
       "204          C    5.0  2010  999  307708263  150837173  156871090  118941089   \n",
       "306          C    6.0  2010  999  307890277  150929529  156960748  118988795   \n",
       "408          C    7.0  2010  999  308086427  151027905  157058522  119041643   \n",
       "510          C    8.0  2010  999  308308214  151142614  157165600  119104504   \n",
       "...        ...    ...   ...  ...        ...        ...        ...        ...   \n",
       "10302        C    8.0  2018  999  325663437  159979624  165683813  123195899   \n",
       "10404        C    9.0  2018  999  325824731  160060360  165764371  123232288   \n",
       "10506        C   10.0  2018  999  325983608  160139888  165843720  123267878   \n",
       "10608        C   11.0  2018  999  326123404  160209549  165913855  123295777   \n",
       "10710        C   12.0  2018  999  326244199  160269508  165974691  123316693   \n",
       "\n",
       "       WA_FEMALE   BA_MALE  ... HWAC_MALE HWAC_FEMALE HBAC_MALE HBAC_FEMALE  \\\n",
       "102    122127046  19053646  ...  23198562    22531437   1423060     1497524   \n",
       "204    122171164  19070825  ...  23234658    22572909   1426541     1500887   \n",
       "306    122215140  19087998  ...  23271950    22615004   1429923     1504238   \n",
       "408    122266055  19105504  ...  23310135    22658056   1433470     1507611   \n",
       "510    122321362  19125988  ...  23349359    22704125   1436346     1511039   \n",
       "...          ...       ...  ...       ...         ...       ...         ...   \n",
       "10302  125966701  20812527  ...  27225108    26758096   1825114     1889774   \n",
       "10404  126001599  20828811  ...  27261924    26795566   1828774     1893415   \n",
       "10506  126035752  20844883  ...  27298328    26832643   1832421     1896954   \n",
       "10608  126062718  20859623  ...  27333317    26868410   1835979     1900454   \n",
       "10710  126083004  20872876  ...  27366042    26902034   1839275     1903769   \n",
       "\n",
       "      HIAC_MALE HIAC_FEMALE HAAC_MALE HAAC_FEMALE HNAC_MALE HNAC_FEMALE  \n",
       "102     1080440     1010705    437149      441837    158075      152338  \n",
       "204     1082258     1012495    438103      442784    158366      152610  \n",
       "306     1084233     1014474    439057      443741    158680      152893  \n",
       "408     1086247     1016487    440103      444689    159040      153196  \n",
       "510     1087271     1018121    440751      445599    158936      153344  \n",
       "...         ...         ...       ...         ...       ...         ...  \n",
       "10302   1278396     1211201    543201      546544    191581      184609  \n",
       "10404   1280299     1213107    544249      547614    191898      184934  \n",
       "10506   1282197     1215021    545339      548645    192240      185258  \n",
       "10608   1284012     1216851    546340      549642    192572      185570  \n",
       "10710   1285708     1218605    547312      550582    192874      185861  \n",
       "\n",
       "[105 rows x 77 columns]"
      ]
     },
     "execution_count": 14,
     "metadata": {},
     "output_type": "execute_result"
    }
   ],
   "source": [
    "data=pd.read_csv(\"https://www2.census.gov/programs-surveys/popest/datasets/2010-2019/national/asrh/nc-est2019-alldata-c-file01.csv\")\n",
    "for i in range (2,19):\n",
    "    File=str(i)\n",
    "    data2 = pd.read_csv(\"https://www2.census.gov/programs-surveys/popest/datasets/2010-2019/national/asrh/nc-est2019-alldata-c-file\" + File.zfill(2) + \".csv\")\n",
    "    data=data.append([data2], ignore_index=True)\n",
    "    \n",
    "#Clean data - eliminating data by age and getting only the totals \n",
    "Clean_AGE=(data['AGE']==999)\n",
    "Clean_data2 = data[Clean_AGE]\n",
    "\n",
    "#Month 4.1 is an estimate, then, it has to be eliminated\n",
    "Clean_month2=(Clean_data2['MONTH'] != 4.1)\n",
    "Clean_month=Clean_data2[Clean_month2]\n",
    "Clean_month"
   ]
  },
  {
   "cell_type": "markdown",
   "metadata": {},
   "source": [
    "### Clean the data to get the total Hispanic population "
   ]
  },
  {
   "cell_type": "code",
   "execution_count": 15,
   "metadata": {},
   "outputs": [],
   "source": [
    "pd.options.mode.chained_assignment = None\n",
    "Hispanic_Population = Clean_month[['MONTH','YEAR','H_MALE','H_FEMALE']]\n",
    "Hispanic_Population['Total']=Hispanic_Population['H_MALE'] + Hispanic_Population['H_FEMALE']\n",
    "Hispanic_Population['Str_Month']=Hispanic_Population['MONTH'].map(str)\n",
    "Hispanic_Population['Str_Month']=Hispanic_Population['Str_Month'].str.split('.').str[0]\n",
    "Hispanic_Population['Str_Month'] = Hispanic_Population['Str_Month'].str.zfill(2)\n",
    "Hispanic_Population['Str_Year']=Hispanic_Population['YEAR'].map(str)\n",
    "Hispanic_Population['Date']=Hispanic_Population['Str_Year']+'-'+Hispanic_Population['Str_Month']+'-'+'01'\n",
    "\n",
    "\n",
    "#Drop unnecessary columns\n",
    "Hispanic_Population.drop(['MONTH','YEAR','H_MALE','H_FEMALE','Str_Month','Str_Year'],axis=1)\n",
    "Hispanic_Population['Date'] = Hispanic_Population['Date'].astype('datetime64[ns]')"
   ]
  },
  {
   "cell_type": "markdown",
   "metadata": {},
   "source": [
    "### Filter the unemployment dates to match the population dates"
   ]
  },
  {
   "cell_type": "code",
   "execution_count": 16,
   "metadata": {},
   "outputs": [],
   "source": [
    "unemployment_df = df_HispUnempl.loc[(df_HispUnempl.date >= '2010-04-01') & (df_HispUnempl.date <= '2020-12-01') ]"
   ]
  },
  {
   "cell_type": "markdown",
   "metadata": {},
   "source": [
    "### Normalize data from file 1"
   ]
  },
  {
   "cell_type": "markdown",
   "metadata": {},
   "source": [
    "#### Create x, where x are the value colum with values as floats"
   ]
  },
  {
   "cell_type": "code",
   "execution_count": 17,
   "metadata": {},
   "outputs": [],
   "source": [
    "x = unemployment_df[['value']].values.astype(float)"
   ]
  },
  {
   "cell_type": "markdown",
   "metadata": {},
   "source": [
    "##### Create a minimum and maximum processor object"
   ]
  },
  {
   "cell_type": "code",
   "execution_count": 18,
   "metadata": {},
   "outputs": [],
   "source": [
    "min_max_scaler = preprocessing.MinMaxScaler()"
   ]
  },
  {
   "cell_type": "markdown",
   "metadata": {},
   "source": [
    "##### Create an object to transform the data to fit minmax processor"
   ]
  },
  {
   "cell_type": "code",
   "execution_count": 19,
   "metadata": {},
   "outputs": [],
   "source": [
    "x_scaled = min_max_scaler.fit_transform(x)"
   ]
  },
  {
   "cell_type": "markdown",
   "metadata": {},
   "source": [
    "##### Run the normalizer on the dataframe"
   ]
  },
  {
   "cell_type": "code",
   "execution_count": 20,
   "metadata": {},
   "outputs": [],
   "source": [
    "nm_unemployment = pd.DataFrame(x_scaled)"
   ]
  },
  {
   "cell_type": "markdown",
   "metadata": {},
   "source": [
    "### Normalize data from file 2"
   ]
  },
  {
   "cell_type": "markdown",
   "metadata": {},
   "source": [
    "#### Create x, where x are the value colum with values as floats"
   ]
  },
  {
   "cell_type": "code",
   "execution_count": 21,
   "metadata": {},
   "outputs": [],
   "source": [
    "x1 = Hispanic_Population[['Total']].values.astype(float)"
   ]
  },
  {
   "cell_type": "markdown",
   "metadata": {},
   "source": [
    "#### Create a minimum and maximum processor object"
   ]
  },
  {
   "cell_type": "code",
   "execution_count": 22,
   "metadata": {},
   "outputs": [],
   "source": [
    "min_max_scaler = preprocessing.MinMaxScaler()"
   ]
  },
  {
   "cell_type": "markdown",
   "metadata": {},
   "source": [
    "#### Create an object to transform the data to fit minmax processor"
   ]
  },
  {
   "cell_type": "code",
   "execution_count": 23,
   "metadata": {},
   "outputs": [],
   "source": [
    "x_scaled = min_max_scaler.fit_transform(x1)"
   ]
  },
  {
   "cell_type": "markdown",
   "metadata": {},
   "source": [
    "#### Run the normalizer on the dataframe"
   ]
  },
  {
   "cell_type": "code",
   "execution_count": 24,
   "metadata": {},
   "outputs": [],
   "source": [
    "nm_Hispanic_Population = pd.DataFrame(x_scaled)"
   ]
  },
  {
   "cell_type": "markdown",
   "metadata": {},
   "source": [
    "### Graphic of the normalized data"
   ]
  },
  {
   "cell_type": "code",
   "execution_count": 25,
   "metadata": {},
   "outputs": [
    {
     "data": {
      "image/png": "[encoded data removed]",
      "text/plain": [
       "<Figure size 432x288 with 1 Axes>"
      ]
     },
     "metadata": {
      "needs_background": "light"
     },
     "output_type": "display_data"
    }
   ],
   "source": [
    "plt.plot(unemployment_df.date, nm_unemployment)\n",
    "plt.plot(Hispanic_Population.Date,nm_Hispanic_Population)\n",
    "plt.show()"
   ]
  },
  {
   "cell_type": "markdown",
   "metadata": {},
   "source": [
    "### Calculating the correlation"
   ]
  },
  {
   "cell_type": "code",
   "execution_count": 26,
   "metadata": {},
   "outputs": [
    {
     "data": {
      "text/html": [
       "<div>\n",
       "<style scoped>\n",
       "    .dataframe tbody tr th:only-of-type {\n",
       "        vertical-align: middle;\n",
       "    }\n",
       "\n",
       "    .dataframe tbody tr th {\n",
       "        vertical-align: top;\n",
       "    }\n",
       "\n",
       "    .dataframe thead th {\n",
       "        text-align: right;\n",
       "    }\n",
       "</style>\n",
       "<table border=\"1\" class=\"dataframe\">\n",
       "  <thead>\n",
       "    <tr style=\"text-align: right;\">\n",
       "      <th></th>\n",
       "      <th>Unemployment</th>\n",
       "      <th>Population</th>\n",
       "    </tr>\n",
       "  </thead>\n",
       "  <tbody>\n",
       "    <tr>\n",
       "      <th>Unemployment</th>\n",
       "      <td>1.000000</td>\n",
       "      <td>0.279017</td>\n",
       "    </tr>\n",
       "    <tr>\n",
       "      <th>Population</th>\n",
       "      <td>0.279017</td>\n",
       "      <td>1.000000</td>\n",
       "    </tr>\n",
       "  </tbody>\n",
       "</table>\n",
       "</div>"
      ],
      "text/plain": [
       "              Unemployment  Population\n",
       "Unemployment      1.000000    0.279017\n",
       "Population        0.279017    1.000000"
      ]
     },
     "execution_count": 26,
     "metadata": {},
     "output_type": "execute_result"
    }
   ],
   "source": [
    "population_unemployment_df1 = nm_unemployment\n",
    "population_unemployment_df1 ['Population']=nm_Hispanic_Population\n",
    "population_unemployment_df1.rename(columns={0: 'Unemployment'}, inplace=True)\n",
    "\n",
    "\n",
    "coefficient_of_correlation = population_unemployment_df1.corr(method='pearson')\n",
    "coefficient_of_correlation"
   ]
  },
  {
   "cell_type": "code",
   "execution_count": null,
   "metadata": {},
   "outputs": [],
   "source": []
  }
 ],
 "metadata": {
  "kernelspec": {
   "display_name": "Python 3",
   "language": "python",
   "name": "python3"
  },
  "language_info": {
   "codemirror_mode": {
    "name": "ipython",
    "version": 3
   },
   "file_extension": ".py",
   "mimetype": "text/x-python",
   "name": "python",
   "nbconvert_exporter": "python",
   "pygments_lexer": "ipython3",
   "version": "3.8.3"
  }
 },
 "nbformat": 4,
 "nbformat_minor": 4
}
